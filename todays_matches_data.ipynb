{
 "cells": [
  {
   "cell_type": "code",
   "execution_count": 69,
   "metadata": {},
   "outputs": [],
   "source": [
    "import pandas as pd\n",
    "import numpy as np\n",
    "import sqlite3\n",
    "import schedule\n",
    "import time\n",
    "import requests\n",
    "from bs4 import BeautifulSoup\n",
    "from datetime import date, datetime"
   ]
  },
  {
   "cell_type": "code",
   "execution_count": 70,
   "metadata": {},
   "outputs": [],
   "source": [
    "req=requests.get('https://playerstats.football/')\n",
    "soup=BeautifulSoup(req.text, 'html.parser')"
   ]
  },
  {
   "cell_type": "code",
   "execution_count": 71,
   "metadata": {},
   "outputs": [],
   "source": [
    "data=soup.find_all('div', class_='border-b border-purple-100/80')"
   ]
  },
  {
   "cell_type": "code",
   "execution_count": 72,
   "metadata": {},
   "outputs": [
    {
     "name": "stdout",
     "output_type": "stream",
     "text": [
      "Scraped Data (Dictionary):\n",
      "{'Premier League': [['AFC Bournemouth', 'Nottingham Forest', 'on play', '1-0'], ['Brighton & Hove Albion', 'Everton', 'on play', '0-1'], ['Liverpool', 'Ipswich Town', 'on play', '3-0'], ['Southampton', 'Newcastle United', 'on play', '1-2'], ['Wolverhampton Wanderers', 'Arsenal', 'on play', '0-0'], ['Manchester City', 'Chelsea', '17:30', 'Not started Yet'], ['Sebail', 'Kapaz', 'Ended', '1-0'], ['Sabah', 'Sumqayıt', 'on play', '0-0']], 'Championship': [['Luton Town', 'Millwall', 'Ended', '0-1'], ['Norwich City', 'Swansea City', 'Ended', '5-1'], ['Stoke City', 'Oxford United', 'Ended', '0-0'], ['Bristol City', 'Blackburn Rovers', 'on play', '1-1'], ['Cardiff City', 'Derby County', 'on play', '0-0'], ['Coventry City', 'Watford', 'on play', '1-0'], ['Preston North End', 'Middlesbrough', 'on play', '1-0'], ['Queens Park Rangers', 'Sheffield Wednesday', 'on play', '0-0'], ['Sunderland', 'Plymouth Argyle', 'on play', '0-0'], ['West Bromwich Albion', 'Portsmouth', 'on play', '3-0']], 'La Liga': [['Mallorca', 'Real Betis', 'Ended', '0-1'], ['Atlético Madrid', 'Villarreal', 'on play', '0-0'], ['Sevilla', 'Espanyol', '17:30', 'Not started Yet'], ['Real Valladolid', 'Real Madrid', '20:00', 'Not started Yet']], 'Bundesliga': [['RB Leipzig', 'Bayer 04 Leverkusen', 'on play', '1-2'], ['Borussia Dortmund', 'Werder Bremen', 'on play', '2-0'], ['SC Freiburg', 'FC Bayern München', 'on play', '0-2'], ['FC Augsburg', 'Heidenheim', 'on play', '1-0'], ['FSV Mainz 05', 'VfB Stuttgart', 'on play', '1-0'], ['Borussia Mönchengladbach', 'VfL Bochum 1848', '17:30', 'Not started Yet']], 'Serie A': [['Como', 'Atalanta', 'on play', '1-2'], ['Napoli', 'Juventus', '17:00', 'Not started Yet'], ['Empoli', 'Bologna', '19:45', 'Not started Yet']], 'Ligue 1': [['Monaco', 'Rennes', '16:00', 'Not started Yet'], ['Strasbourg', 'LOSC Lille', '18:00', 'Not started Yet'], ['Paris Saint Germain', 'Reims', '20:05', 'Not started Yet']], 'A-League Men': [['Wellington Phoenix', 'Central Coast Mariners', 'Ended', '0-0'], ['Newcastle Jets', 'Perth Glory', 'Ended', '2-2'], ['Macarthur', 'Melbourne City', 'Ended', '1-0']], 'League One': [['Cambridge United', 'Mansfield Town', 'Ended', '3-2'], ['Huddersfield Town', 'Bolton Wanderers', 'Ended', '0-1'], ['Wigan Athletic', 'Bristol Rovers', 'on play', '1-0'], ['Wycombe Wanderers', 'Northampton Town', 'on play', '0-0'], ['Barnsley', 'Stevenage', 'on play', '0-0'], ['Burton Albion', 'Rotherham United', 'on play', '3-1'], ['Charlton Athletic', 'Shrewsbury Town', 'on play', '0-0'], ['Exeter City', 'Blackpool', 'on play', '0-2'], ['Leyton Orient', 'Reading', 'on play', '1-0'], ['Lincoln City', 'Peterborough United', 'on play', '2-0'], ['Stockport County', 'Crawley Town', 'on play', '2-0']], 'League Two': [['Bradford City', 'Walsall', 'Ended', '3-0'], ['Milton Keynes Dons', 'AFC Wimbledon', 'Ended', '0-0'], ['Tranmere Rovers', 'Gillingham', 'on play', '1-1'], ['Barrow', 'Grimsby Town', 'on play', '1-0'], ['Cheltenham Town', 'Salford City', 'on play', '1-0'], ['Chesterfield', 'Port Vale', 'on play', '0-1'], ['Colchester United', 'Morecambe', 'on play', '0-0'], ['Crewe Alexandra', 'Accrington Stanley', 'on play', '0-1'], ['Doncaster Rovers', 'Harrogate Town', 'on play', '0-0'], ['Fleetwood Town', 'Carlisle United', 'on play', '0-1'], ['Notts County', 'Bromley', 'on play', '0-0']], 'Premiership': [['Aberdeen', 'St. Mirren', 'on play', '0-2'], ['Celtic', 'Dundee', 'Ended', 'POST'], ['Hearts', 'Kilmarnock', 'on play', '1-0'], ['Ross County', 'Hibernian', 'on play', '0-1'], ['St. Johnstone', 'Motherwell', 'on play', '0-1']], 'Superliga': [['Belgrano', 'Huracán', 'Ended', '1-1'], ['San Martín San Juan', 'Atlético Tucumán', 'Ended', '0-1'], ['San Lorenzo', 'Talleres Córdoba', '20:00', 'Not started Yet'], ['Estudiantes', 'Unión Santa Fe', '22:15', 'Not started Yet'], ['Instituto', 'Gimnasia La Plata', '22:15', 'Not started Yet']], 'Serie B': [['Cesena', 'Bari 1908', 'on play', '1-1'], ['Cosenza', 'Cittadella', 'on play', '0-1'], ['Frosinone', 'Südtirol', 'on play', '0-2'], ['Juve Stabia', 'Carrarese', 'on play', '2-0'], ['Mantova', 'Sampdoria', '16:15', 'Not started Yet']], 'Liga MX': [['Atlético San Luis', 'Necaxa', 'Ended', '0-3'], ['Mazatlán', 'Toluca', 'Ended', '2-1'], ['Tijuana', 'Querétaro', 'Ended', '2-1'], ['León', 'Juárez', '23:00', 'Not started Yet'], ['Cruz Azul', 'Puebla', '23:00', 'Not started Yet']], 'Super Lig': [['Sivasspor', 'Kayserispor', 'Ended', '5-2'], ['Alanyaspor', 'İstanbul Başakşehir', 'Ended', '5-4'], ['Galatasaray', 'Konyaspor', '16:00', 'Not started Yet']], '2. Bundesliga': [['FC Köln', 'Elversberg', 'Ended', '1-0'], ['Karlsruher SC', 'Fortuna Düsseldorf', 'Ended', '2-3'], ['Schalke 04', 'Nürnberg', 'Ended', '3-1'], ['Hertha BSC', 'Hamburger SV', '19:30', 'Not started Yet']], \"Women's Super League\": [['Aston Villa W', 'Manchester City W', 'Ended', '2-4']], 'Ligue 2': [['Paris', 'Red Star', 'Ended', '4-1'], ['Lorient', 'Clermont', '19:00', 'Not started Yet']], \"Ligat ha'Al\": [['Beitar Jerusalem', 'Bnei Sakhnin', 'Ended', '1-0'], ['Ironi Tiberias', 'Hapoel Haifa', 'on play', '0-0'], ['Ironi Kiryat Shmona', 'Maccabi Bnei Raina', '16:00', 'Not started Yet'], ['Ashdod', 'Hapoel Katamon', '16:00', 'Not started Yet'], [\"Hapoel Be'er Sheva\", 'Maccabi Petah Tikva', '17:30', 'Not started Yet']], 'Saudi Pro League': [['Al Kholood', 'Al Raed', 'on play', '2-1'], ['Al Akhdoud', 'Al Khaleej', '15:30', 'Not started Yet'], ['Al-Wehda', 'Al Ettifaq', '17:00', 'Not started Yet']], '1. HNL': [['Gorica', 'Varaždin', 'on play', '1-1'], ['Dinamo Zagreb', 'Istra 1961', '16:30', 'Not started Yet']], 'Pro League': [['Westerlo', 'Genk', 'on play', '0-2'], ['Sporting Charleroi', 'Cercle Brugge', '17:15', 'Not started Yet'], ['Club Brugge', 'Kortrijk', '19:45', 'Not started Yet']], 'Super League': [['Asteras Tripolis', 'Kallithea', 'on play', '1-0'], ['OFI', 'Panserraikos', 'on play', '1-1'], ['AEK Athens', 'Panaitolikos', '18:00', 'Not started Yet'], ['Grasshopper', 'Young Boys', '17:00', 'Not started Yet'], ['Yverdon Sport', 'Servette', '17:00', 'Not started Yet'], ['Winterthur', 'Lugano', '19:30', 'Not started Yet']], 'La Liga 2': [['Córdoba', 'Racing Santander', 'on play', '1-1'], ['Huesca', 'FC Cartagena', '17:30', 'Not started Yet'], ['Deportivo La Coruña', 'Levante', '17:30', 'Not started Yet'], ['Tenerife', 'Eldense', '20:00', 'Not started Yet']], 'Eerste Divisie': [['Telstar', 'Jong Ajax', 'on play', '0-0']], 'Liga Portugal': [['Farense', 'Rio Ave', 'on play', '0-0'], ['Famalicão', 'Estrela Amadora', 'on play', '0-0'], ['Casa Pia', 'Benfica', '18:00', 'Not started Yet'], ['Sporting CP', 'Nacional', '20:30', 'Not started Yet']], 'Eredivisie': [['PSV', 'NAC Breda', '17:45', 'Not started Yet'], ['FC Groningen', 'SC Heerenveen', '20:00', 'Not started Yet']]}\n"
     ]
    }
   ],
   "source": [
    "def is_time_format(time_str, time_format=\"%H:%M\"):\n",
    "    try:\n",
    "        # Try parsing the string with the given format\n",
    "        datetime.strptime(time_str, time_format)\n",
    "        return True\n",
    "    except ValueError:\n",
    "        # If parsing fails, it's not a valid time\n",
    "        return False\n",
    "\n",
    "cups = {}\n",
    "\n",
    "for item in data:\n",
    "    cup = item.find('h2').text.strip()\n",
    "    \n",
    "    # Find all teams and time elements\n",
    "    team1_elements = item.find_all('a', class_='flex items-center whitespace-wrap mb-2 text-sm')\n",
    "    team2_elements = item.find_all('a', class_='flex items-center text-sm')\n",
    "    time_elements = item.find_all('div', class_='pr-3 sm:pr-6')\n",
    "    \n",
    "    for team1, team2, time_element in zip(team1_elements, team2_elements, time_elements):\n",
    "        # Safely extract team and time details\n",
    "        first_team = team1.find('div', class_='whitespace-nowrap truncate underline decoration-slate-300 decoration-dotted underline-offset-4 hover:opacity-60')\n",
    "        second_team = team2.find('div', class_='whitespace-nowrap truncate underline decoration-slate-300 decoration-dotted underline-offset-4 hover:opacity-60')\n",
    "        time = time_element.find('div', class_='flex items-center text-grey-500')\n",
    "        \n",
    "        # Check if time or score is present\n",
    "        if is_time_format(time.text.strip(), \"%H:%M\"):\n",
    "            valid_time = time.text.strip()\n",
    "            score=\"Not started Yet\"\n",
    "        else:\n",
    "            valid_time = \"Ended\"\n",
    "            score=time.text.strip()\n",
    "            \n",
    "        # Check if the match is on play\n",
    "        if time_element.find('a', href=\"/inplay\") is not None:\n",
    "            valid_time='on play'\n",
    "        \n",
    "        # Check if all details are present\n",
    "        if first_team and second_team and time and score:\n",
    "            match = [\n",
    "                first_team.text.strip(),\n",
    "                second_team.text.strip(),\n",
    "                valid_time,\n",
    "                score\n",
    "            ]\n",
    "            cups.setdefault(cup, []).append(match)\n",
    "\n",
    "# Print the organized data\n",
    "print(\"Scraped Data (Dictionary):\")\n",
    "print(cups)\n",
    "\n"
   ]
  },
  {
   "cell_type": "code",
   "execution_count": 73,
   "metadata": {},
   "outputs": [
    {
     "name": "stdout",
     "output_type": "stream",
     "text": [
      "\n",
      "Scraped Data (DataFrame):\n",
      "           Date             Cup                   Team 1             Team 2  \\\n",
      "0    25/01/2025  Premier League          AFC Bournemouth  Nottingham Forest   \n",
      "1    25/01/2025  Premier League   Brighton & Hove Albion            Everton   \n",
      "2    25/01/2025  Premier League                Liverpool       Ipswich Town   \n",
      "3    25/01/2025  Premier League              Southampton   Newcastle United   \n",
      "4    25/01/2025  Premier League  Wolverhampton Wanderers            Arsenal   \n",
      "..          ...             ...                      ...                ...   \n",
      "114  25/01/2025   Liga Portugal                Famalicão    Estrela Amadora   \n",
      "115  25/01/2025   Liga Portugal                 Casa Pia            Benfica   \n",
      "116  25/01/2025   Liga Portugal              Sporting CP           Nacional   \n",
      "117  25/01/2025      Eredivisie                      PSV          NAC Breda   \n",
      "118  25/01/2025      Eredivisie             FC Groningen      SC Heerenveen   \n",
      "\n",
      "        Time            Score  \n",
      "0    on play              1-0  \n",
      "1    on play              0-1  \n",
      "2    on play              3-0  \n",
      "3    on play              1-2  \n",
      "4    on play              0-0  \n",
      "..       ...              ...  \n",
      "114  on play              0-0  \n",
      "115    18:00  Not started Yet  \n",
      "116    20:30  Not started Yet  \n",
      "117    17:45  Not started Yet  \n",
      "118    20:00  Not started Yet  \n",
      "\n",
      "[119 rows x 6 columns]\n"
     ]
    }
   ],
   "source": [
    "# Convert the dictionary into a structured DataFrame\n",
    "\n",
    "rows = []\n",
    "for cup, matches in cups.items():\n",
    "    today = date.today()\n",
    "    today = today.strftime(\"%d/%m/%Y\")\n",
    "    for match in matches:\n",
    "        rows.append({'Date':today,'Cup': cup, 'Team 1': match[0], 'Team 2': match[1], 'Time': match[2], 'Score': match[3]})\n",
    "\n",
    "df = pd.DataFrame(rows)\n",
    "\n",
    "# Print the DataFrame\n",
    "print(\"\\nScraped Data (DataFrame):\")\n",
    "print(df)"
   ]
  },
  {
   "cell_type": "code",
   "execution_count": 74,
   "metadata": {},
   "outputs": [
    {
     "name": "stdout",
     "output_type": "stream",
     "text": [
      "done\n"
     ]
    }
   ],
   "source": [
    "with pd.ExcelWriter('matches.xlsx') as writer:\n",
    "    df.to_excel(writer, sheet_name=f'Matches_{date.today().strftime(\"%Y-%m-%d\")}', index=False)\n",
    "print('done')"
   ]
  }
 ],
 "metadata": {
  "kernelspec": {
   "display_name": ".venv",
   "language": "python",
   "name": "python3"
  },
  "language_info": {
   "codemirror_mode": {
    "name": "ipython",
    "version": 3
   },
   "file_extension": ".py",
   "mimetype": "text/x-python",
   "name": "python",
   "nbconvert_exporter": "python",
   "pygments_lexer": "ipython3",
   "version": "3.9.7"
  }
 },
 "nbformat": 4,
 "nbformat_minor": 2
}
