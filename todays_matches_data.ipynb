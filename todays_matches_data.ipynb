{
 "cells": [
  {
   "cell_type": "code",
   "execution_count": 16,
   "metadata": {},
   "outputs": [],
   "source": [
    "import pandas as pd\n",
    "import numpy as np\n",
    "import sqlite3\n",
    "import schedule\n",
    "import time\n",
    "import requests\n",
    "from bs4 import BeautifulSoup\n",
    "from datetime import date, datetime"
   ]
  },
  {
   "cell_type": "code",
   "execution_count": 17,
   "metadata": {},
   "outputs": [],
   "source": [
    "req=requests.get('https://playerstats.football/')\n",
    "soup=BeautifulSoup(req.text, 'html.parser')"
   ]
  },
  {
   "cell_type": "code",
   "execution_count": 18,
   "metadata": {},
   "outputs": [],
   "source": [
    "data=soup.find_all('div', class_='border-b border-purple-100/80')"
   ]
  },
  {
   "cell_type": "code",
   "execution_count": 19,
   "metadata": {},
   "outputs": [
    {
     "name": "stdout",
     "output_type": "stream",
     "text": [
      "Scraped Data (Dictionary):\n",
      "{'Premier League': [['AFC Bournemouth', 'Nottingham Forest', '15:00', 'Not started Yet'], ['Brighton & Hove Albion', 'Everton', '15:00', 'Not started Yet'], ['Liverpool', 'Ipswich Town', '15:00', 'Not started Yet'], ['Southampton', 'Newcastle United', '15:00', 'Not started Yet'], ['Wolverhampton Wanderers', 'Arsenal', '15:00', 'Not started Yet'], ['Manchester City', 'Chelsea', '17:30', 'Not started Yet'], ['Sebail', 'Kapaz', 'on play', '1-0'], ['Sabah', 'Sumqayıt', '14:30', 'Not started Yet']], 'Championship': [['Luton Town', 'Millwall', 'on play', '0-0'], ['Norwich City', 'Swansea City', 'on play', '0-0'], ['Stoke City', 'Oxford United', 'on play', '0-0'], ['Bristol City', 'Blackburn Rovers', '15:00', 'Not started Yet'], ['Cardiff City', 'Derby County', '15:00', 'Not started Yet'], ['Coventry City', 'Watford', '15:00', 'Not started Yet'], ['Preston North End', 'Middlesbrough', '15:00', 'Not started Yet'], ['Queens Park Rangers', 'Sheffield Wednesday', '15:00', 'Not started Yet'], ['Sunderland', 'Plymouth Argyle', '15:00', 'Not started Yet'], ['West Bromwich Albion', 'Portsmouth', '15:00', 'Not started Yet']], 'La Liga': [['Mallorca', 'Real Betis', 'on play', '0-0'], ['Atlético Madrid', 'Villarreal', '15:15', 'Not started Yet'], ['Sevilla', 'Espanyol', '17:30', 'Not started Yet'], ['Real Valladolid', 'Real Madrid', '20:00', 'Not started Yet']], 'Bundesliga': [['RB Leipzig', 'Bayer 04 Leverkusen', '14:30', 'Not started Yet'], ['Borussia Dortmund', 'Werder Bremen', '14:30', 'Not started Yet'], ['SC Freiburg', 'FC Bayern München', '14:30', 'Not started Yet'], ['FC Augsburg', 'Heidenheim', '14:30', 'Not started Yet'], ['FSV Mainz 05', 'VfB Stuttgart', '14:30', 'Not started Yet'], ['Borussia Mönchengladbach', 'VfL Bochum 1848', '17:30', 'Not started Yet']], 'Serie A': [['Como', 'Atalanta', '14:00', 'Not started Yet'], ['Napoli', 'Juventus', '17:00', 'Not started Yet'], ['Empoli', 'Bologna', '19:45', 'Not started Yet']], 'Ligue 1': [['Monaco', 'Rennes', '16:00', 'Not started Yet'], ['Strasbourg', 'LOSC Lille', '18:00', 'Not started Yet'], ['Paris Saint Germain', 'Reims', '20:05', 'Not started Yet']], 'A-League Men': [['Wellington Phoenix', 'Central Coast Mariners', 'Ended', '0-0'], ['Newcastle Jets', 'Perth Glory', 'Ended', '2-2'], ['Macarthur', 'Melbourne City', 'Ended', '1-0']], 'League One': [['Cambridge United', 'Mansfield Town', 'on play', '2-0'], ['Huddersfield Town', 'Bolton Wanderers', 'on play', '0-0'], ['Wycombe Wanderers', 'Northampton Town', '15:00', 'Not started Yet'], ['Barnsley', 'Stevenage', '15:00', 'Not started Yet'], ['Wigan Athletic', 'Bristol Rovers', '15:00', 'Not started Yet'], ['Stockport County', 'Crawley Town', '15:00', 'Not started Yet'], ['Lincoln City', 'Peterborough United', '15:00', 'Not started Yet'], ['Leyton Orient', 'Reading', '15:00', 'Not started Yet'], ['Exeter City', 'Blackpool', '15:00', 'Not started Yet'], ['Burton Albion', 'Rotherham United', '15:00', 'Not started Yet'], ['Charlton Athletic', 'Shrewsbury Town', '15:00', 'Not started Yet']], 'League Two': [['Bradford City', 'Walsall', 'on play', '1-0'], ['Milton Keynes Dons', 'AFC Wimbledon', 'on play', '0-0'], ['Cheltenham Town', 'Salford City', '15:00', 'Not started Yet'], ['Chesterfield', 'Port Vale', '15:00', 'Not started Yet'], ['Colchester United', 'Morecambe', '15:00', 'Not started Yet'], ['Crewe Alexandra', 'Accrington Stanley', '15:00', 'Not started Yet'], ['Doncaster Rovers', 'Harrogate Town', '15:00', 'Not started Yet'], ['Fleetwood Town', 'Carlisle United', '15:00', 'Not started Yet'], ['Notts County', 'Bromley', '15:00', 'Not started Yet'], ['Tranmere Rovers', 'Gillingham', '15:00', 'Not started Yet'], ['Barrow', 'Grimsby Town', '15:00', 'Not started Yet']], 'Premiership': [['St. Johnstone', 'Motherwell', '15:00', 'Not started Yet'], ['Aberdeen', 'St. Mirren', '15:00', 'Not started Yet'], ['Celtic', 'Dundee', 'Ended', 'POST'], ['Hearts', 'Kilmarnock', '15:00', 'Not started Yet'], ['Ross County', 'Hibernian', '15:00', 'Not started Yet']], 'Superliga': [['Belgrano', 'Huracán', 'Ended', '1-1'], ['San Martín San Juan', 'Atlético Tucumán', 'Ended', '0-1'], ['San Lorenzo', 'Talleres Córdoba', '20:00', 'Not started Yet'], ['Estudiantes', 'Unión Santa Fe', '22:15', 'Not started Yet'], ['Instituto', 'Gimnasia La Plata', '22:15', 'Not started Yet']], 'Serie B': [['Juve Stabia', 'Carrarese', '14:00', 'Not started Yet'], ['Cesena', 'Bari 1908', '14:00', 'Not started Yet'], ['Cosenza', 'Cittadella', '14:00', 'Not started Yet'], ['Frosinone', 'Südtirol', '14:00', 'Not started Yet'], ['Mantova', 'Sampdoria', '16:15', 'Not started Yet']], 'Liga MX': [['Atlético San Luis', 'Necaxa', 'Ended', '0-3'], ['Mazatlán', 'Toluca', 'Ended', '2-1'], ['Tijuana', 'Querétaro', 'Ended', '2-1'], ['León', 'Juárez', '23:00', 'Not started Yet'], ['Cruz Azul', 'Puebla', '23:00', 'Not started Yet']], 'Super Lig': [['Sivasspor', 'Kayserispor', 'Ended', '5-2'], ['Alanyaspor', 'İstanbul Başakşehir', 'on play', '0-0'], ['Galatasaray', 'Konyaspor', '16:00', 'Not started Yet']], '2. Bundesliga': [['FC Köln', 'Elversberg', 'on play', '0-0'], ['Karlsruher SC', 'Fortuna Düsseldorf', 'on play', '2-0'], ['Schalke 04', 'Nürnberg', 'on play', '3-1'], ['Hertha BSC', 'Hamburger SV', '19:30', 'Not started Yet']], \"Women's Super League\": [['Aston Villa W', 'Manchester City W', 'on play', '1-2']], 'Ligue 2': [['Paris', 'Red Star', 'on play', '0-0'], ['Lorient', 'Clermont', '19:00', 'Not started Yet']], \"Ligat ha'Al\": [['Beitar Jerusalem', 'Bnei Sakhnin', 'on play', '0-0'], ['Ironi Tiberias', 'Hapoel Haifa', '15:30', 'Not started Yet'], ['Ironi Kiryat Shmona', 'Maccabi Bnei Raina', '16:00', 'Not started Yet'], ['Ashdod', 'Hapoel Katamon', '16:00', 'Not started Yet'], [\"Hapoel Be'er Sheva\", 'Maccabi Petah Tikva', '17:30', 'Not started Yet']], 'Saudi Pro League': [['Al Kholood', 'Al Raed', '13:50', 'Not started Yet'], ['Al Akhdoud', 'Al Khaleej', '15:30', 'Not started Yet'], ['Al-Wehda', 'Al Ettifaq', '17:00', 'Not started Yet']], '1. HNL': [['Gorica', 'Varaždin', '14:00', 'Not started Yet'], ['Dinamo Zagreb', 'Istra 1961', '16:30', 'Not started Yet']], 'Super League': [['Asteras Tripolis', 'Kallithea', '15:00', 'Not started Yet'], ['OFI', 'Panserraikos', '15:00', 'Not started Yet'], ['AEK Athens', 'Panaitolikos', '18:00', 'Not started Yet'], ['Yverdon Sport', 'Servette', '17:00', 'Not started Yet'], ['Grasshopper', 'Young Boys', '17:00', 'Not started Yet'], ['Winterthur', 'Lugano', '19:30', 'Not started Yet']], 'Pro League': [['Westerlo', 'Genk', '15:00', 'Not started Yet'], ['Sporting Charleroi', 'Cercle Brugge', '17:15', 'Not started Yet'], ['Club Brugge', 'Kortrijk', '19:45', 'Not started Yet']], 'La Liga 2': [['Córdoba', 'Racing Santander', '15:15', 'Not started Yet'], ['Deportivo La Coruña', 'Levante', '17:30', 'Not started Yet'], ['Huesca', 'FC Cartagena', '17:30', 'Not started Yet'], ['Tenerife', 'Eldense', '20:00', 'Not started Yet']], 'Liga Portugal': [['Famalicão', 'Estrela Amadora', '15:30', 'Not started Yet'], ['Farense', 'Rio Ave', '15:30', 'Not started Yet'], ['Casa Pia', 'Benfica', '18:00', 'Not started Yet'], ['Sporting CP', 'Nacional', '20:30', 'Not started Yet']], 'Eerste Divisie': [['Telstar', 'Jong Ajax', '15:30', 'Not started Yet']], 'Eredivisie': [['PSV', 'NAC Breda', '17:45', 'Not started Yet'], ['FC Groningen', 'SC Heerenveen', '20:00', 'Not started Yet']]}\n"
     ]
    }
   ],
   "source": [
    "def is_time_format(time_str, time_format=\"%H:%M\"):\n",
    "    try:\n",
    "        # Try parsing the string with the given format\n",
    "        datetime.strptime(time_str, time_format)\n",
    "        return True\n",
    "    except ValueError:\n",
    "        # If parsing fails, it's not a valid time\n",
    "        return False\n",
    "\n",
    "cups = {}\n",
    "\n",
    "for item in data:\n",
    "    cup = item.find('h2').text.strip()\n",
    "    \n",
    "    # Find all teams and time elements\n",
    "    team1_elements = item.find_all('a', class_='flex items-center whitespace-wrap mb-2 text-sm')\n",
    "    team2_elements = item.find_all('a', class_='flex items-center text-sm')\n",
    "    time_elements = item.find_all('div', class_='pr-3 sm:pr-6')\n",
    "    \n",
    "    for team1, team2, time_element in zip(team1_elements, team2_elements, time_elements):\n",
    "        # Safely extract team and time details\n",
    "        first_team = team1.find('div', class_='whitespace-nowrap truncate underline decoration-slate-300 decoration-dotted underline-offset-4 hover:opacity-60')\n",
    "        second_team = team2.find('div', class_='whitespace-nowrap truncate underline decoration-slate-300 decoration-dotted underline-offset-4 hover:opacity-60')\n",
    "        time = time_element.find('div', class_='flex items-center text-grey-500')\n",
    "        \n",
    "        # Check if time or score is present\n",
    "        if is_time_format(time.text.strip(), \"%H:%M\"):\n",
    "            valid_time = time.text.strip()\n",
    "            score=\"Not started Yet\"\n",
    "        else:\n",
    "            valid_time = \"Ended\"\n",
    "            score=time.text.strip()\n",
    "            \n",
    "        # Check if the match is on play\n",
    "        if time_element.find('a', href=\"/inplay\") is not None:\n",
    "            valid_time='on play'\n",
    "        \n",
    "        # Check if all details are present\n",
    "        if first_team and second_team and time and score:\n",
    "            match = [\n",
    "                first_team.text.strip(),\n",
    "                second_team.text.strip(),\n",
    "                valid_time,\n",
    "                score\n",
    "            ]\n",
    "            cups.setdefault(cup, []).append(match)\n",
    "\n",
    "# Print the organized data\n",
    "print(\"Scraped Data (Dictionary):\")\n",
    "print(cups)\n",
    "\n"
   ]
  },
  {
   "cell_type": "code",
   "execution_count": 20,
   "metadata": {},
   "outputs": [
    {
     "name": "stdout",
     "output_type": "stream",
     "text": [
      "\n",
      "Scraped Data (DataFrame):\n",
      "           Date             Cup                   Team 1             Team 2  \\\n",
      "0    25/01/2025  Premier League          AFC Bournemouth  Nottingham Forest   \n",
      "1    25/01/2025  Premier League   Brighton & Hove Albion            Everton   \n",
      "2    25/01/2025  Premier League                Liverpool       Ipswich Town   \n",
      "3    25/01/2025  Premier League              Southampton   Newcastle United   \n",
      "4    25/01/2025  Premier League  Wolverhampton Wanderers            Arsenal   \n",
      "..          ...             ...                      ...                ...   \n",
      "114  25/01/2025   Liga Portugal                 Casa Pia            Benfica   \n",
      "115  25/01/2025   Liga Portugal              Sporting CP           Nacional   \n",
      "116  25/01/2025  Eerste Divisie                  Telstar          Jong Ajax   \n",
      "117  25/01/2025      Eredivisie                      PSV          NAC Breda   \n",
      "118  25/01/2025      Eredivisie             FC Groningen      SC Heerenveen   \n",
      "\n",
      "      Time            Score  \n",
      "0    15:00  Not started Yet  \n",
      "1    15:00  Not started Yet  \n",
      "2    15:00  Not started Yet  \n",
      "3    15:00  Not started Yet  \n",
      "4    15:00  Not started Yet  \n",
      "..     ...              ...  \n",
      "114  18:00  Not started Yet  \n",
      "115  20:30  Not started Yet  \n",
      "116  15:30  Not started Yet  \n",
      "117  17:45  Not started Yet  \n",
      "118  20:00  Not started Yet  \n",
      "\n",
      "[119 rows x 6 columns]\n"
     ]
    }
   ],
   "source": [
    "# Convert the dictionary into a structured DataFrame\n",
    "\n",
    "rows = []\n",
    "for cup, matches in cups.items():\n",
    "    today = date.today()\n",
    "    today = today.strftime(\"%d/%m/%Y\")\n",
    "    for match in matches:\n",
    "        rows.append({'Date':today,'Cup': cup, 'Team 1': match[0], 'Team 2': match[1], 'Time': match[2], 'Score': match[3]})\n",
    "\n",
    "df = pd.DataFrame(rows)\n",
    "\n",
    "# Print the DataFrame\n",
    "print(\"\\nScraped Data (DataFrame):\")\n",
    "print(df)"
   ]
  },
  {
   "cell_type": "code",
   "execution_count": 21,
   "metadata": {},
   "outputs": [
    {
     "ename": "ModuleNotFoundError",
     "evalue": "No module named 'openpyxl'",
     "output_type": "error",
     "traceback": [
      "\u001b[1;31m---------------------------------------------------------------------------\u001b[0m",
      "\u001b[1;31mModuleNotFoundError\u001b[0m                       Traceback (most recent call last)",
      "Cell \u001b[1;32mIn[21], line 1\u001b[0m\n\u001b[1;32m----> 1\u001b[0m \u001b[38;5;28;01mwith\u001b[39;00m \u001b[43mpd\u001b[49m\u001b[38;5;241;43m.\u001b[39;49m\u001b[43mExcelWriter\u001b[49m\u001b[43m(\u001b[49m\u001b[38;5;124;43m'\u001b[39;49m\u001b[38;5;124;43mmatches.xlsx\u001b[39;49m\u001b[38;5;124;43m'\u001b[39;49m\u001b[43m)\u001b[49m \u001b[38;5;28;01mas\u001b[39;00m writer:\n\u001b[0;32m      2\u001b[0m     df\u001b[38;5;241m.\u001b[39mto_excel(writer, sheet_name\u001b[38;5;241m=\u001b[39m\u001b[38;5;124mf\u001b[39m\u001b[38;5;124m'\u001b[39m\u001b[38;5;124mMatches_\u001b[39m\u001b[38;5;132;01m{\u001b[39;00mdate\u001b[38;5;241m.\u001b[39mtoday()\u001b[38;5;132;01m}\u001b[39;00m\u001b[38;5;124m'\u001b[39m, index\u001b[38;5;241m=\u001b[39m\u001b[38;5;28;01mFalse\u001b[39;00m)\n\u001b[0;32m      3\u001b[0m \u001b[38;5;124m'\u001b[39m\u001b[38;5;124mdone\u001b[39m\u001b[38;5;124m'\u001b[39m\n",
      "File \u001b[1;32md:\\vscode\\.venv\\lib\\site-packages\\pandas\\io\\excel\\_openpyxl.py:57\u001b[0m, in \u001b[0;36mOpenpyxlWriter.__init__\u001b[1;34m(self, path, engine, date_format, datetime_format, mode, storage_options, if_sheet_exists, engine_kwargs, **kwargs)\u001b[0m\n\u001b[0;32m     44\u001b[0m \u001b[38;5;28;01mdef\u001b[39;00m\u001b[38;5;250m \u001b[39m\u001b[38;5;21m__init__\u001b[39m(\n\u001b[0;32m     45\u001b[0m     \u001b[38;5;28mself\u001b[39m,\n\u001b[0;32m     46\u001b[0m     path: FilePath \u001b[38;5;241m|\u001b[39m WriteExcelBuffer \u001b[38;5;241m|\u001b[39m ExcelWriter,\n\u001b[1;32m   (...)\u001b[0m\n\u001b[0;32m     55\u001b[0m ) \u001b[38;5;241m-\u001b[39m\u001b[38;5;241m>\u001b[39m \u001b[38;5;28;01mNone\u001b[39;00m:\n\u001b[0;32m     56\u001b[0m     \u001b[38;5;66;03m# Use the openpyxl module as the Excel writer.\u001b[39;00m\n\u001b[1;32m---> 57\u001b[0m     \u001b[38;5;28;01mfrom\u001b[39;00m\u001b[38;5;250m \u001b[39m\u001b[38;5;21;01mopenpyxl\u001b[39;00m\u001b[38;5;21;01m.\u001b[39;00m\u001b[38;5;21;01mworkbook\u001b[39;00m\u001b[38;5;250m \u001b[39m\u001b[38;5;28;01mimport\u001b[39;00m Workbook\n\u001b[0;32m     59\u001b[0m     engine_kwargs \u001b[38;5;241m=\u001b[39m combine_kwargs(engine_kwargs, kwargs)\n\u001b[0;32m     61\u001b[0m     \u001b[38;5;28msuper\u001b[39m()\u001b[38;5;241m.\u001b[39m\u001b[38;5;21m__init__\u001b[39m(\n\u001b[0;32m     62\u001b[0m         path,\n\u001b[0;32m     63\u001b[0m         mode\u001b[38;5;241m=\u001b[39mmode,\n\u001b[1;32m   (...)\u001b[0m\n\u001b[0;32m     66\u001b[0m         engine_kwargs\u001b[38;5;241m=\u001b[39mengine_kwargs,\n\u001b[0;32m     67\u001b[0m     )\n",
      "\u001b[1;31mModuleNotFoundError\u001b[0m: No module named 'openpyxl'"
     ]
    }
   ],
   "source": [
    "with pd.ExcelWriter('matches.xlsx') as writer:\n",
    "    df.to_excel(writer, sheet_name=f'Matches_{date.today()}', index=False)\n",
    "'done'"
   ]
  }
 ],
 "metadata": {
  "kernelspec": {
   "display_name": ".venv",
   "language": "python",
   "name": "python3"
  },
  "language_info": {
   "codemirror_mode": {
    "name": "ipython",
    "version": 3
   },
   "file_extension": ".py",
   "mimetype": "text/x-python",
   "name": "python",
   "nbconvert_exporter": "python",
   "pygments_lexer": "ipython3",
   "version": "3.9.7"
  }
 },
 "nbformat": 4,
 "nbformat_minor": 2
}
