{
 "cells": [
  {
   "cell_type": "code",
   "execution_count": 19,
   "metadata": {},
   "outputs": [],
   "source": [
    "import pandas as pd\n",
    "import numpy as np\n",
    "import sqlite3\n",
    "import schedule\n",
    "import time\n",
    "import requests\n",
    "from bs4 import BeautifulSoup\n",
    "from datetime import date, datetime\n",
    "from openpyxl import load_workbook"
   ]
  },
  {
   "cell_type": "code",
   "execution_count": 20,
   "metadata": {},
   "outputs": [],
   "source": [
    "req=requests.get('https://playerstats.football/')\n",
    "soup=BeautifulSoup(req.text, 'html.parser')"
   ]
  },
  {
   "cell_type": "code",
   "execution_count": 21,
   "metadata": {},
   "outputs": [],
   "source": [
    "data=soup.find_all('div', class_='border-b border-purple-100/80')"
   ]
  },
  {
   "cell_type": "code",
   "execution_count": 22,
   "metadata": {},
   "outputs": [
    {
     "name": "stdout",
     "output_type": "stream",
     "text": [
      "Scraped Data (Dictionary):\n",
      "{'Premier League': [['Crystal Palace', 'Brentford', 'Ended', '1-2'], ['Tottenham Hotspur', 'Leicester City', 'Ended', '1-2'], ['Aston Villa', 'West Ham United', 'on play', '1-0'], ['Fulham', 'Manchester United', '19:00', 'Not started Yet'], ['Araz', 'Neftçi', 'Ended', '2-1'], ['Qarabağ', 'Turan', 'Ended', '1-2']], 'La Liga': [['Rayo Vallecano', 'Girona', 'Ended', '2-1'], ['Real Sociedad', 'Getafe', 'Ended', '0-3'], ['Athletic Club', 'Leganés', '17:30', 'Not started Yet'], ['FC Barcelona', 'Valencia', '20:00', 'Not started Yet']], 'Bundesliga': [['TSG Hoffenheim', 'Eintracht Frankfurt', 'Ended', '2-2'], ['St. Pauli', 'FC Union Berlin', 'on play', '1-0']], 'Serie A': [['Milan', 'Parma', 'Ended', '3-2'], ['Udinese', 'Roma', 'Ended', '1-2'], ['Lecce', 'Inter', 'on play', '0-1'], ['Lazio', 'Fiorentina', '19:45', 'Not started Yet']], 'Ligue 1': [['Le Havre', 'Brest', 'Ended', '0-1'], ['Nantes', 'Olympique Lyonnais', 'on play', '0-1'], ['Toulouse', 'Montpellier', 'on play', '0-0'], ['Lens', 'Angers SCO', 'on play', '1-0'], ['Nice', 'Olympique Marseille', '19:45', 'Not started Yet']], 'A-League Men': [['Western Sydney Wanderers', 'Auckland', 'Ended', '0-1']], 'Premiership': [['Dundee United', 'Rangers', 'Ended', '1-3']], 'Superliga': [['Platense', 'River Plate', 'Ended', '1-1'], ['Boca Juniors', 'Argentinos Juniors', '22:00', 'Not started Yet']], 'Serie B': [['Brescia', 'Catanzaro', 'Ended', '2-3'], ['Pisa', 'Salernitana', 'Ended', '1-0'], ['Reggiana', 'Palermo', 'Ended', '2-1'], ['Cremonese', 'Modena', 'on play', '1-2']], 'Liga MX': [['Guadalajara', 'Tigres UANL', 'Ended', '1-1'], ['Santos Laguna', 'América', 'Ended', '1-4'], ['Monterrey', 'Pachuca', 'Ended', '2-3'], ['Pumas UNAM', 'Atlas', '18:00', 'Not started Yet']], 'Super Lig': [['Rizespor', 'Adana Demirspor', 'Ended', '3-2'], ['Antalyaspor', 'Beşiktaş', 'Ended', '1-1'], ['Bodrumspor', 'Eyüpspor', 'Ended', '0-1'], ['Fenerbahçe', 'Göztepe', 'on play', '3-1']], 'Eerste Divisie': [['Excelsior', 'ADO Den Haag', 'Ended', '1-0'], ['Helmond Sport', 'Jong AZ', 'on play', '2-1']], 'Eredivisie': [['Fortuna Sittard', 'PEC Zwolle', 'Ended', '1-4'], ['RKC Waalwijk', 'Willem II', 'Ended', '2-0'], ['AZ', 'Sparta Rotterdam', 'on play', '0-1']], 'Pro League': [['Standard Liège', 'Dender', 'Ended', '1-0'], ['Beerschot-Wilrijk', 'Union Saint-Gilloise', 'Ended', '0-4'], ['Anderlecht', 'Mechelen', '17:30', 'Not started Yet'], ['OH Leuven', 'Gent', '18:15', 'Not started Yet']], '2. Bundesliga': [['Darmstadt 98', 'Paderborn', 'Ended', '0-1'], ['Hannover 96', 'Preußen Münster', 'Ended', '2-2'], ['Ulm', 'Jahn Regensburg', 'Ended', '5-1']], \"Women's Super League\": [['Chelsea W', 'Arsenal W', 'Ended', '1-0'], ['Leicester W', 'Tottenham W', 'Ended', '2-3'], ['West Ham W', 'Liverpool W', 'Ended', '2-1'], ['Manchester United W', 'Everton W', 'Ended', '2-0']], 'La Liga 2': [['Granada', 'Sporting Gijón', 'Ended', '3-1'], ['Albacete', 'Almería', 'Ended', '2-1'], ['Real Oviedo', 'Castellón', 'Ended', '1-0'], ['Málaga', 'Real Zaragoza', '17:30', 'Not started Yet'], ['Racing Ferrol', 'Burgos', 'Ended', 'POST']], 'Super League': [['St. Gallen', 'Lausanne Sport', 'Ended', '3-2'], ['Basel', 'Sion', 'Ended', '4-1'], ['Luzern', 'Zürich', 'Ended', '3-1'], ['Lamia', 'Aris', 'Ended', '0-2'], ['PAOK', 'Levadiakos', '17:30', 'Not started Yet'], ['Olympiakos Piraeus', 'Panathinaikos', '18:30', 'Not started Yet']], '1. HNL': [['Rijeka', 'Lokomotiva Zagreb', 'Ended', '4-1'], ['Hajduk Split', 'Slaven Koprivnica', 'on play', '0-0']], 'Saudi Pro League': [['Al Taawoun', 'Al Orubah', 'Ended', '0-0'], ['Al Ahli', 'Al Riyadh', 'on play', '4-0'], ['Al Nassr', 'Al Fateh', 'on play', '0-0']], 'Liga Portugal': [['Estoril', 'Vitória SC', 'on play', '1-0'], ['Porto', 'Santa Clara', '18:00', 'Not started Yet'], ['Sporting Braga', 'Boavista', '20:30', 'Not started Yet']], \"Ligat ha'Al\": [['Maccabi Netanya', 'Hapoel Hadera', '18:15', 'Not started Yet']]}\n"
     ]
    }
   ],
   "source": [
    "def is_time_format(time_str, time_format=\"%H:%M\"):\n",
    "    try:\n",
    "        # Try parsing the string with the given format\n",
    "        datetime.strptime(time_str, time_format)\n",
    "        return True\n",
    "    except ValueError:\n",
    "        # If parsing fails, it's not a valid time\n",
    "        return False\n",
    "\n",
    "cups = {}\n",
    "\n",
    "for item in data:\n",
    "    cup = item.find('h2').text.strip()\n",
    "    \n",
    "    # Find all teams and time elements\n",
    "    team1_elements = item.find_all('a', class_='flex items-center whitespace-wrap mb-2 text-sm')\n",
    "    team2_elements = item.find_all('a', class_='flex items-center text-sm')\n",
    "    time_elements = item.find_all('div', class_='pr-3 sm:pr-6')\n",
    "    \n",
    "    for team1, team2, time_element in zip(team1_elements, team2_elements, time_elements):\n",
    "        # Safely extract team and time details\n",
    "        first_team = team1.find('div', class_='whitespace-nowrap truncate underline decoration-slate-300 decoration-dotted underline-offset-4 hover:opacity-60')\n",
    "        second_team = team2.find('div', class_='whitespace-nowrap truncate underline decoration-slate-300 decoration-dotted underline-offset-4 hover:opacity-60')\n",
    "        time = time_element.find('div', class_='flex items-center text-grey-500')\n",
    "        \n",
    "        # Check if time or score is present\n",
    "        if is_time_format(time.text.strip(), \"%H:%M\"):\n",
    "            valid_time = time.text.strip()\n",
    "            score=\"Not started Yet\"\n",
    "        else:\n",
    "            valid_time = \"Ended\"\n",
    "            score=time.text.strip()\n",
    "            \n",
    "        # Check if the match is on play\n",
    "        if time_element.find('a', href=\"/inplay\") is not None:\n",
    "            valid_time='on play'\n",
    "        \n",
    "        # Check if all details are present\n",
    "        if first_team and second_team and time and score:\n",
    "            match = [\n",
    "                first_team.text.strip(),\n",
    "                second_team.text.strip(),\n",
    "                valid_time,\n",
    "                score\n",
    "            ]\n",
    "            cups.setdefault(cup, []).append(match)\n",
    "\n",
    "# Print the organized data\n",
    "print(\"Scraped Data (Dictionary):\")\n",
    "print(cups)\n",
    "\n"
   ]
  },
  {
   "cell_type": "code",
   "execution_count": 23,
   "metadata": {},
   "outputs": [
    {
     "name": "stdout",
     "output_type": "stream",
     "text": [
      "\n",
      "Scraped Data (DataFrame):\n",
      "          Date               Cup             Team 1             Team 2  \\\n",
      "0   26/01/2025    Premier League     Crystal Palace          Brentford   \n",
      "1   26/01/2025    Premier League  Tottenham Hotspur     Leicester City   \n",
      "2   26/01/2025    Premier League        Aston Villa    West Ham United   \n",
      "3   26/01/2025    Premier League             Fulham  Manchester United   \n",
      "4   26/01/2025    Premier League               Araz             Neftçi   \n",
      "..         ...               ...                ...                ...   \n",
      "68  26/01/2025  Saudi Pro League           Al Nassr           Al Fateh   \n",
      "69  26/01/2025     Liga Portugal            Estoril         Vitória SC   \n",
      "70  26/01/2025     Liga Portugal              Porto        Santa Clara   \n",
      "71  26/01/2025     Liga Portugal     Sporting Braga           Boavista   \n",
      "72  26/01/2025       Ligat ha'Al    Maccabi Netanya      Hapoel Hadera   \n",
      "\n",
      "       Time            Score  \n",
      "0     Ended              1-2  \n",
      "1     Ended              1-2  \n",
      "2   on play              1-0  \n",
      "3     19:00  Not started Yet  \n",
      "4     Ended              2-1  \n",
      "..      ...              ...  \n",
      "68  on play              0-0  \n",
      "69  on play              1-0  \n",
      "70    18:00  Not started Yet  \n",
      "71    20:30  Not started Yet  \n",
      "72    18:15  Not started Yet  \n",
      "\n",
      "[73 rows x 6 columns]\n"
     ]
    }
   ],
   "source": [
    "# Convert the dictionary into a structured DataFrame\n",
    "\n",
    "rows = []\n",
    "for cup, matches in cups.items():\n",
    "    today = date.today()\n",
    "    today = today.strftime(\"%d/%m/%Y\")\n",
    "    for match in matches:\n",
    "        rows.append({'Date':today,'Cup': cup, 'Team 1': match[0], 'Team 2': match[1], 'Time': match[2], 'Score': match[3]})\n",
    "\n",
    "df = pd.DataFrame(rows)\n",
    "\n",
    "# Print the DataFrame\n",
    "print(\"\\nScraped Data (DataFrame):\")\n",
    "print(df)"
   ]
  },
  {
   "cell_type": "code",
   "execution_count": 24,
   "metadata": {},
   "outputs": [
    {
     "name": "stdout",
     "output_type": "stream",
     "text": [
      "done\n"
     ]
    }
   ],
   "source": [
    "with pd.ExcelWriter('matches.xlsx',mode='a',engine='openpyxl',if_sheet_exists='replace') as writer:\n",
    "    df.to_excel(writer, sheet_name=f'Matches_{date.today().strftime(\"%Y-%m-%d\")}', index=False)\n",
    "print('done')"
   ]
  }
 ],
 "metadata": {
  "kernelspec": {
   "display_name": ".venv",
   "language": "python",
   "name": "python3"
  },
  "language_info": {
   "codemirror_mode": {
    "name": "ipython",
    "version": 3
   },
   "file_extension": ".py",
   "mimetype": "text/x-python",
   "name": "python",
   "nbconvert_exporter": "python",
   "pygments_lexer": "ipython3",
   "version": "3.9.7"
  }
 },
 "nbformat": 4,
 "nbformat_minor": 2
}
